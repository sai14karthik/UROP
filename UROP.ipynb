{
 "cells": [
  {
   "cell_type": "code",
   "execution_count": 6,
   "id": "4a3b8829",
   "metadata": {},
   "outputs": [],
   "source": [
    "import pandas as pd\n",
    "import numpy as np\n",
    "from sklearn.model_selection import train_test_split\n",
    "from sklearn.preprocessing import StandardScaler\n",
    "from sklearn.svm import SVC\n",
    "from sklearn.metrics import accuracy_score, precision_score, recall_score, f1_score, confusion_matrix, classification_report\n",
    "from sklearn.model_selection import train_test_split\n",
    "from sklearn.ensemble import RandomForestClassifier\n",
    "from sklearn.metrics import accuracy_score\n",
    "from sklearn.exceptions import UndefinedMetricWarning\n",
    "import warnings\n",
    "import time\n",
    "from sklearn.svm import SVC\n",
    "import random\n",
    "warnings.filterwarnings(\"ignore\")\n",
    "warnings.resetwarnings()\n",
    "warnings.filterwarnings(\"ignore\", category=FutureWarning)\n"
   ]
  },
  {
   "cell_type": "code",
   "execution_count": 7,
   "id": "bbc78368",
   "metadata": {},
   "outputs": [],
   "source": [
    "df=pd.read_csv(\"/Users/saikarthik/Desktop/UROP/data.csv\")"
   ]
  },
  {
   "cell_type": "code",
   "execution_count": null,
   "id": "2a565507",
   "metadata": {},
   "outputs": [],
   "source": [
    "df.head(5)"
   ]
  },
  {
   "cell_type": "code",
   "execution_count": null,
   "id": "41f246b4",
   "metadata": {},
   "outputs": [],
   "source": [
    "df.tail(5)"
   ]
  },
  {
   "cell_type": "code",
   "execution_count": 8,
   "id": "fd6e0d25",
   "metadata": {},
   "outputs": [],
   "source": [
    "df.dropna(inplace=True)\n"
   ]
  },
  {
   "cell_type": "code",
   "execution_count": 9,
   "id": "1841c68d",
   "metadata": {},
   "outputs": [],
   "source": [
    "df.drop_duplicates(inplace=True)\n"
   ]
  },
  {
   "cell_type": "code",
   "execution_count": 22,
   "id": "ea9e0843",
   "metadata": {},
   "outputs": [
    {
     "name": "stdout",
     "output_type": "stream",
     "text": [
      "14272 2046\n"
     ]
    }
   ],
   "source": [
    "c0=0\n",
    "c1=0\n",
    "for i in  df[\"Label\"]:\n",
    "    if i== 0 :\n",
    "        c0=c0+1\n",
    "    elif i==1:\n",
    "        c1=c1+1\n",
    "print(c0,c1)            \n",
    "        "
   ]
  },
  {
   "cell_type": "code",
   "execution_count": 11,
   "id": "f69ccd32",
   "metadata": {},
   "outputs": [],
   "source": [
    "for column in df.columns:\n",
    "    if df[column].dtype == 'object':  \n",
    "        df[column] = df[column].replace(to_replace='.*', value=0, regex=True)"
   ]
  },
  {
   "cell_type": "code",
   "execution_count": 10,
   "id": "0a40f30c",
   "metadata": {},
   "outputs": [],
   "source": [
    "cols_to_drop = [col for col in df.columns if df[col].nunique() == 1]\n",
    "df = df.drop(columns=cols_to_drop)\n"
   ]
  },
  {
   "cell_type": "code",
   "execution_count": 33,
   "id": "873c4294",
   "metadata": {},
   "outputs": [
    {
     "data": {
      "text/plain": [
       "Index(['SrcBytes', 'DstBytes', 'SrcLoad', 'DstLoad', 'SIntPkt', 'DIntPkt',\n",
       "       'SIntPktAct', 'SrcJitter', 'DstJitter', 'sMaxPktSz', 'dMaxPktSz',\n",
       "       'sMinPktSz', 'Dur', 'TotPkts', 'TotBytes', 'Load', 'Loss', 'pLoss',\n",
       "       'pSrcLoss', 'pDstLoss', 'Rate', 'Packet_num', 'Temp', 'SpO2',\n",
       "       'Pulse_Rate', 'SYS', 'DIA', 'Heart_rate', 'Resp_Rate', 'ST', 'Label'],\n",
       "      dtype='object')"
      ]
     },
     "execution_count": 33,
     "metadata": {},
     "output_type": "execute_result"
    }
   ],
   "source": [
    "df.columns"
   ]
  },
  {
   "attachments": {},
   "cell_type": "markdown",
   "id": "af190a5f",
   "metadata": {},
   "source": [
    "# Random Forest "
   ]
  },
  {
   "attachments": {},
   "cell_type": "markdown",
   "id": "70fa8059",
   "metadata": {},
   "source": [
    "### Before GA and HC"
   ]
  },
  {
   "cell_type": "code",
   "execution_count": 13,
   "id": "b9de059a",
   "metadata": {},
   "outputs": [
    {
     "name": "stdout",
     "output_type": "stream",
     "text": [
      "Execution Time: 2.00 seconds\n",
      "Accuracy: 0.9347426470588235\n",
      "Precision: 0.981042654028436\n",
      "Recall: 0.49759615384615385\n",
      "F1-Score: 0.6602870813397129\n",
      "Confusion Matrix:\n",
      " [[2844    4]\n",
      " [ 209  207]]\n",
      "Classification Report:\n",
      "               precision    recall  f1-score   support\n",
      "\n",
      "           0       0.93      1.00      0.96      2848\n",
      "           1       0.98      0.50      0.66       416\n",
      "\n",
      "    accuracy                           0.93      3264\n",
      "   macro avg       0.96      0.75      0.81      3264\n",
      "weighted avg       0.94      0.93      0.93      3264\n",
      "\n"
     ]
    }
   ],
   "source": [
    "X = df.drop('Label', axis=1)\n",
    "y = df['Label']\n",
    "\n",
    "X_train, X_test, y_train, y_test = train_test_split(X, y, test_size=0.2, random_state=42)\n",
    "\n",
    "clf = RandomForestClassifier(n_estimators=100, random_state=42)\n",
    "\n",
    "start_time = time.time()\n",
    "\n",
    "clf.fit(X_train, y_train)\n",
    "\n",
    "end_time = time.time()\n",
    "\n",
    "y_pred = clf.predict(X_test)\n",
    "\n",
    "execution_time = end_time - start_time\n",
    "\n",
    "accuracy = accuracy_score(y_test, y_pred)\n",
    "conf_matrix = confusion_matrix(y_test, y_pred)\n",
    "classification_rep = classification_report(y_test, y_pred)\n",
    "\n",
    "print(f\"Execution Time: {execution_time:.2f} seconds\")\n",
    "print(\"Accuracy:\", accuracy_score(y_test, y_pred))\n",
    "print(\"Precision:\", precision_score(y_test, y_pred))\n",
    "print(\"Recall:\", recall_score(y_test, y_pred))\n",
    "print(\"F1-Score:\", f1_score(y_test, y_pred))\n",
    "print(\"Confusion Matrix:\\n\", confusion_matrix(y_test, y_pred))\n",
    "print(\"Classification Report:\\n\", classification_report(y_test, y_pred))"
   ]
  },
  {
   "attachments": {},
   "cell_type": "markdown",
   "id": "cba96561",
   "metadata": {},
   "source": [
    "### After applying Genetic Algorithm"
   ]
  },
  {
   "cell_type": "code",
   "execution_count": null,
   "id": "995762db",
   "metadata": {},
   "outputs": [],
   "source": [
    "\n",
    "\n",
    "X = df.drop('Label', axis=1)\n",
    "y = df['Label']\n",
    "\n",
    "X_train, X_test, y_train, y_test = train_test_split(X, y, test_size=0.2, random_state=42)\n",
    "\n",
    "population_size = 50\n",
    "generations = 100\n",
    "mutation_rate = 0.01\n",
    "\n",
    "def evaluate_features(features):\n",
    "    clf = RandomForestClassifier(n_estimators=100, random_state=42)\n",
    "    clf.fit(X_train.iloc[:, features], y_train)\n",
    "    y_pred = clf.predict(X_test.iloc[:, features])\n",
    "    accuracy = accuracy_score(y_test, y_pred)\n",
    "    return accuracy\n",
    "\n",
    "population = [np.random.choice([0, 1], size=X_train.shape[1]) for _ in range(population_size)]\n",
    "\n",
    "\n",
    "\n",
    "for generation in range(generations):\n",
    "    fitness_scores = [evaluate_features(individual) for individual in population]\n",
    "    num_parents = int(population_size * 0.2)\n",
    "    parents = np.argsort(fitness_scores)[-num_parents]\n",
    "    parents = parents.tolist()  \n",
    "    new_population = []\n",
    "    for _ in range(population_size - num_parents):\n",
    "        parent1 = population[np.random.choice(parents)]\n",
    "        parent2 = population[np.random.choice(parents)]\n",
    "        crossover_point = np.random.randint(0, X_train.shape[1])\n",
    "        child = np.hstack((parent1[:crossover_point], parent2[crossover_point:]))\n",
    "        mutation = np.random.rand(X_train.shape[1]) < mutation_rate\n",
    "        child = (child + mutation) % 2\n",
    "        new_population.append(child)\n",
    "    population = np.vstack((population[parents], new_population))\n",
    "\n",
    "best_individual = population[np.argmax(fitness_scores)]\n",
    "selected_features = np.where(best_individual == 1)[0]\n",
    "\n",
    "start_time_with_ga = time.time()\n",
    "clf_with_ga = RandomForestClassifier(n_estimators=100, random_state=42)\n",
    "clf_with_ga.fit(X_train.iloc[:, selected_features], y_train)\n",
    "y_pred_with_ga = clf_with_ga.predict(X_test.iloc[:, selected_features])\n",
    "end_time_with_ga = time.time()\n",
    "\n",
    "time_taken_with_ga = end_time_with_ga - start_time_with_ga\n",
    "\n",
    "confusion_matrix_with_ga = confusion_matrix(y_test, y_pred_with_ga)\n",
    "\n",
    "print(\"Time taken for Model with Genetic Algorithm Feature Selection:\", time_taken_with_ga, \"seconds\")\n",
    "\n",
    "\n",
    "print(\"\\nConfusion Matrix for Model with Genetic Algorithm Feature Selection:\")\n",
    "print(confusion_matrix_with_ga)\n",
    "\n",
    "\n",
    "\n",
    "\n",
    "print(\"\\nConfusion Matrix for Model with Genetic Algorithm Feature Selection:\")\n",
    "print(confusion_matrix_with_ga)\n",
    "\n",
    "\n",
    "\n",
    "accuracy_with_ga = accuracy_score(y_test, y_pred_with_ga)\n",
    "precision_with_ga = precision_score(y_test, y_pred_with_ga)\n",
    "recall_with_ga = recall_score(y_test, y_pred_with_ga)\n",
    "f1_score_with_ga = f1_score(y_test, y_pred_with_ga)\n",
    "\n",
    "\n",
    "print(\"\\nModel with Genetic Algorithm Feature Selection Metrics:\")\n",
    "print(\"Accuracy (with GA):\", accuracy_with_ga)\n",
    "print(\"Precision (with GA):\", precision_with_ga)\n",
    "print(\"Recall (with GA):\", recall_with_ga)\n",
    "print(\"F1 Score (with GA):\", f1_score_with_ga)\n"
   ]
  },
  {
   "attachments": {},
   "cell_type": "markdown",
   "id": "09104765",
   "metadata": {},
   "source": [
    "### After applying Hill climb on Random forest"
   ]
  },
  {
   "cell_type": "code",
   "execution_count": 23,
   "id": "0022fc18",
   "metadata": {},
   "outputs": [
    {
     "name": "stdout",
     "output_type": "stream",
     "text": [
      "Selected Features: [0, 1, 2, 3, 10, 11, 12, 13, 14, 15, 18, 20, 21, 24, 25, 26, 27, 28, 29, 31, 32]\n",
      "Best Score: 0.9589460784313726\n",
      "Accuracy: 0.9589460784313726\n",
      "Precision: 0.9595113439439142\n",
      "Recall: 0.9589460784313726\n",
      "F1 Score: 0.9559702794086331\n",
      "Confusion Matrix:\n",
      " [[2840    8]\n",
      " [ 126  290]]\n",
      "Time taken: 2.0015292167663574 seconds\n"
     ]
    }
   ],
   "source": [
    "X = df.drop('Label', axis=1)\n",
    "y = df['Label']\n",
    "X_train, X_test, y_train, y_test = train_test_split(X, y, test_size=0.2, random_state=42)\n",
    "\n",
    "X_train = X_train.to_numpy()  \n",
    "X_test = X_test.to_numpy()  \n",
    "\n",
    "def objective_function(features):\n",
    "    start_time = time.time()\n",
    "    clf = RandomForestClassifier(n_estimators=100, random_state=42)\n",
    "    clf.fit(X_train[:, features], y_train)\n",
    "    y_pred = clf.predict(X_test[:, features])\n",
    "    end_time = time.time()\n",
    "\n",
    "    return accuracy_score(y_test, y_pred)\n",
    "\n",
    "def hill_climbing_feature_selection(num_features, num_iterations):\n",
    "    current_features = list(range(num_features))\n",
    "    current_score = objective_function(current_features)\n",
    "\n",
    "    for _ in range(num_iterations):\n",
    "        neighbor = current_features.copy()\n",
    "        if len(neighbor) > 1:  \n",
    "            feature_to_remove = random.choice(neighbor)\n",
    "            neighbor.remove(feature_to_remove)\n",
    "        else:\n",
    "            features_not_in_subset = list(set(range(num_features)) - set(neighbor))\n",
    "            if features_not_in_subset:\n",
    "                feature_to_add = random.choice(features_not_in_subset)\n",
    "                neighbor.append(feature_to_add)\n",
    "        neighbor_score = objective_function(neighbor)\n",
    "        if neighbor_score > current_score:\n",
    "            current_features = neighbor\n",
    "            current_score = neighbor_score\n",
    "\n",
    "    return current_features, current_score\n",
    "\n",
    "num_features = X_train.shape[1]\n",
    "num_iterations = 100\n",
    "\n",
    "selected_features, best_score = hill_climbing_feature_selection(num_features, num_iterations)\n",
    "elapsed_time = end_time - start_time\n",
    "\n",
    "clf = RandomForestClassifier(n_estimators=100, random_state=42)\n",
    "clf.fit(X_train[:, selected_features], y_train)\n",
    "y_pred = clf.predict(X_test[:, selected_features])\n",
    "\n",
    "accuracy = accuracy_score(y_test, y_pred)\n",
    "precision = precision_score(y_test, y_pred, average='weighted')\n",
    "recall = recall_score(y_test, y_pred, average='weighted')\n",
    "f1 = f1_score(y_test, y_pred, average='weighted')\n",
    "confusion = confusion_matrix(y_test, y_pred)\n",
    "\n",
    "print(\"Selected Features:\", selected_features)\n",
    "print(\"Best Score:\", best_score)\n",
    "print(\"Accuracy:\", accuracy)\n",
    "print(\"Precision:\", precision)\n",
    "print(\"Recall:\", recall)\n",
    "print(\"F1 Score:\", f1)\n",
    "print(\"Confusion Matrix:\\n\", confusion)\n",
    "print(\"Time taken:\", elapsed_time, \"seconds\")"
   ]
  },
  {
   "attachments": {},
   "cell_type": "markdown",
   "id": "93678390",
   "metadata": {},
   "source": [
    "# --------------------------------------------------\n",
    "# SVM"
   ]
  },
  {
   "attachments": {},
   "cell_type": "markdown",
   "id": "a69e33aa",
   "metadata": {},
   "source": [
    "### Before GA and HC"
   ]
  },
  {
   "cell_type": "code",
   "execution_count": 24,
   "id": "15bf4d8c",
   "metadata": {},
   "outputs": [
    {
     "name": "stdout",
     "output_type": "stream",
     "text": [
      "Execution Time (SVM): 364.24 seconds\n",
      "Accuracy (SVM): 0.9283088235294118\n",
      "Precision (SVM): 0.989247311827957\n",
      "Recall (SVM): 0.4423076923076923\n",
      "F1-Score (SVM): 0.6112956810631229\n",
      "Confusion Matrix (SVM):\n",
      " [[2846    2]\n",
      " [ 232  184]]\n",
      "Classification Report (SVM):\n",
      "               precision    recall  f1-score   support\n",
      "\n",
      "           0       0.92      1.00      0.96      2848\n",
      "           1       0.99      0.44      0.61       416\n",
      "\n",
      "    accuracy                           0.93      3264\n",
      "   macro avg       0.96      0.72      0.79      3264\n",
      "weighted avg       0.93      0.93      0.92      3264\n",
      "\n"
     ]
    }
   ],
   "source": [
    "from sklearn.svm import SVC\n",
    "\n",
    "svm = SVC(kernel='linear', random_state=42)\n",
    "\n",
    "start_time = time.time()\n",
    "\n",
    "svm.fit(X_train, y_train)\n",
    "\n",
    "end_time = time.time()\n",
    "\n",
    "y_pred_svm = svm.predict(X_test)\n",
    "\n",
    "execution_time = end_time - start_time\n",
    "\n",
    "accuracy_svm = accuracy_score(y_test, y_pred_svm)\n",
    "precision_svm = precision_score(y_test, y_pred_svm)\n",
    "recall_svm = recall_score(y_test, y_pred_svm)\n",
    "f1_score_svm = f1_score(y_test, y_pred_svm)\n",
    "conf_matrix_svm = confusion_matrix(y_test, y_pred_svm)\n",
    "classification_rep_svm = classification_report(y_test, y_pred_svm)\n",
    "\n",
    "print(f\"Execution Time (SVM): {execution_time:.2f} seconds\")\n",
    "print(\"Accuracy (SVM):\", accuracy_svm)\n",
    "print(\"Precision (SVM):\", precision_svm)\n",
    "print(\"Recall (SVM):\", recall_svm)\n",
    "print(\"F1-Score (SVM):\", f1_score_svm)\n",
    "print(\"Confusion Matrix (SVM):\\n\", conf_matrix_svm)\n",
    "print(\"Classification Report (SVM):\\n\", classification_rep_svm)\n"
   ]
  },
  {
   "cell_type": "code",
   "execution_count": 27,
   "id": "6fda57c6",
   "metadata": {},
   "outputs": [
    {
     "name": "stdout",
     "output_type": "stream",
     "text": [
      "Time taken for Model with Genetic Algorithm Feature Selection: 478.169570684433 seconds\n",
      "\n",
      "Confusion Matrix for Model with Genetic Algorithm Feature Selection:\n",
      "[[2840    8]\n",
      " [ 234  182]]\n",
      "\n",
      "Model with Genetic Algorithm Feature Selection Metrics:\n",
      "Accuracy (with GA): 0.9258578431372549\n",
      "Precision (with GA): 0.9578947368421052\n",
      "Recall (with GA): 0.4375\n",
      "F1 Score (with GA): 0.6006600660066007\n"
     ]
    }
   ],
   "source": [
    "X = df.drop('Label', axis=1)\n",
    "y = df['Label']\n",
    "\n",
    "X_train, X_test, y_train, y_test = train_test_split(X, y, test_size=0.2, random_state=42)\n",
    "\n",
    "population_size = 50\n",
    "generations = 100\n",
    "mutation_rate = 0.01\n",
    "\n",
    "def evaluate_features(features):\n",
    "    clf = SVC(kernel='linear', random_state=42)\n",
    "    clf.fit(X_train.iloc[:, features], y_train)\n",
    "    y_pred = clf.predict(X_test.iloc[:, features])\n",
    "    accuracy = accuracy_score(y_test, y_pred)\n",
    "    return accuracy\n",
    "\n",
    "population = [np.random.choice([0, 1], size=X_train.shape[1]) for _ in range(population_size)]\n",
    "\n",
    "for generation in range(generations):\n",
    "    fitness_scores = [evaluate_features(individual) for individual in population]\n",
    "    num_parents = int(population_size * 0.2)\n",
    "    parents = np.argsort(fitness_scores)[-num_parents]\n",
    "    parents = parents.tolist()\n",
    "    new_population = []\n",
    "    for _ in range(population_size - num_parents):\n",
    "        parent1 = population[np.random.choice(parents)]\n",
    "        parent2 = population[np.random.choice(parents)]\n",
    "        crossover_point = np.random.randint(0, X_train.shape[1])\n",
    "        child = np.hstack((parent1[:crossover_point], parent2[crossover_point:]))\n",
    "        mutation = np.random.rand(X_train.shape[1]) < mutation_rate\n",
    "        child = (child + mutation) % 2\n",
    "        new_population.append(child)\n",
    "    population = np.vstack((population[parents], new_population))\n",
    "\n",
    "best_individual = population[np.argmax(fitness_scores)]\n",
    "selected_features = np.where(best_individual == 1)[0]\n",
    "\n",
    "start_time_with_ga = time.time()\n",
    "clf_with_ga = SVC(kernel='linear', random_state=42)\n",
    "clf_with_ga.fit(X_train.iloc[:, selected_features], y_train)\n",
    "y_pred_with_ga = clf_with_ga.predict(X_test.iloc[:, selected_features])\n",
    "end_time_with_ga = time.time()\n",
    "\n",
    "time_taken_with_ga = end_time_with_ga - start_time_with_ga\n",
    "\n",
    "confusion_matrix_with_ga = confusion_matrix(y_test, y_pred_with_ga)\n",
    "\n",
    "print(\"Time taken for Model with Genetic Algorithm Feature Selection:\", time_taken_with_ga, \"seconds\")\n",
    "\n",
    "print(\"\\nConfusion Matrix for Model with Genetic Algorithm Feature Selection:\")\n",
    "print(confusion_matrix_with_ga)\n",
    "\n",
    "accuracy_with_ga = accuracy_score(y_test, y_pred_with_ga)\n",
    "precision_with_ga = precision_score(y_test, y_pred_with_ga)\n",
    "recall_with_ga = recall_score(y_test, y_pred_with_ga)\n",
    "f1_score_with_ga = f1_score(y_test, y_pred_with_ga)\n",
    "\n",
    "print(\"\\nModel with Genetic Algorithm Feature Selection Metrics:\")\n",
    "print(\"Accuracy (with GA):\", accuracy_with_ga)\n",
    "print(\"Precision (with GA):\", precision_with_ga)\n",
    "print(\"Recall (with GA):\", recall_with_ga)\n",
    "print(\"F1 Score (with GA):\", f1_score_with_ga)"
   ]
  },
  {
   "attachments": {},
   "cell_type": "markdown",
   "id": "0b1f368c",
   "metadata": {},
   "source": [
    "### After Hill Climb "
   ]
  },
  {
   "cell_type": "code",
   "execution_count": null,
   "id": "4144a359",
   "metadata": {},
   "outputs": [],
   "source": [
    "X = df.drop('Label', axis=1)\n",
    "y = df['Label']\n",
    "X_train, X_test, y_train, y_test = train_test_split(X, y, test_size=0.2, random_state=42)\n",
    "\n",
    "X_train = X_train.to_numpy()\n",
    "X_test = X_test.to_numpy()\n",
    "\n",
    "start_time = time.time()\n",
    "\n",
    "def objective_function(features):\n",
    "    clf = SVC(kernel='linear', random_state=42)  # Use linear kernel for SVM\n",
    "    clf.fit(X_train[:, features], y_train)\n",
    "    y_pred = clf.predict(X_test[:, features])\n",
    "\n",
    "    return accuracy_score(y_test, y_pred)\n",
    "\n",
    "def hill_climbing_feature_selection(num_features, num_iterations):\n",
    "    current_features = list(range(num_features))\n",
    "    current_score = objective_function(current_features)\n",
    "\n",
    "    for _ in range(num_iterations):\n",
    "        neighbor = current_features.copy()\n",
    "        if len(neighbor) > 1:\n",
    "            feature_to_remove = random.choice(neighbor)\n",
    "            neighbor.remove(feature_to_remove)\n",
    "        else:\n",
    "            features_not_in_subset = list(set(range(num_features)) - set(neighbor))\n",
    "            if features_not_in_subset:\n",
    "                feature_to_add = random.choice(features_not_in_subset)\n",
    "                neighbor.append(feature_to_add)\n",
    "        neighbor_score = objective_function(neighbor)\n",
    "        if neighbor_score > current_score:\n",
    "            current_features = neighbor\n",
    "            current_score = neighbor_score\n",
    "\n",
    "    return current_features, current_score\n",
    "\n",
    "num_features = X_train.shape[1]\n",
    "num_iterations = 100\n",
    "\n",
    "selected_features, best_score = hill_climbing_feature_selection(num_features, num_iterations)\n",
    "\n",
    "end_time = time.time()\n",
    "elapsed_time = end_time - start_time\n",
    "\n",
    "clf = SVC(kernel='linear', random_state=42) \n",
    "clf.fit(X_train[:, selected_features], y_train)\n",
    "y_pred = clf.predict(X_test[:, selected_features])\n",
    "\n",
    "accuracy = accuracy_score(y_test, y_pred)\n",
    "precision = precision_score(y_test, y_pred, average='weighted')\n",
    "recall = recall_score(y_test, y_pred, average='weighted')\n",
    "f1 = f1_score(y_test, y_pred, average='weighted')\n",
    "confusion = confusion_matrix(y_test, y_pred)\n",
    "\n",
    "print(\"Selected Features:\", selected_features)\n",
    "print(\"Best Score:\", best_score)\n",
    "print(\"Accuracy:\", accuracy)\n",
    "print(\"Precision:\", precision)\n",
    "print(\"Recall:\", recall)\n",
    "print(\"F1 Score:\", f1)\n",
    "print(\"Confusion Matrix:\\n\", confusion)\n",
    "print(\"Time taken:\", elapsed_time, \"seconds\")"
   ]
  }
 ],
 "metadata": {
  "kernelspec": {
   "display_name": "Python 3 (ipykernel)",
   "language": "python",
   "name": "python3"
  },
  "language_info": {
   "codemirror_mode": {
    "name": "ipython",
    "version": 3
   },
   "file_extension": ".py",
   "mimetype": "text/x-python",
   "name": "python",
   "nbconvert_exporter": "python",
   "pygments_lexer": "ipython3",
   "version": "3.9.12"
  }
 },
 "nbformat": 4,
 "nbformat_minor": 5
}
